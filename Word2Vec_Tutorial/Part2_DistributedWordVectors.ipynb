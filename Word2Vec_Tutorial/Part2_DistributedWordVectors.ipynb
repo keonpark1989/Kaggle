{
 "cells": [
  {
   "cell_type": "markdown",
   "metadata": {},
   "source": [
    "## Introducing Distributed Word Vectors\n",
    "This part of the tutorial will focus on using distributed word vectors created by the Word2Vec algorithm. (For an overview of deep learning, as well as pointers to some additional tutorials, see the \"What is Deep Learning?\" page).\n",
    "\n",
    "Parts 2 and 3 assume more familiarity with Python than Part 1. We developed the following code on a dual-core Macbook Pro, however, we have not yet run the code successfully on Windows. If you are a Windows user and you get it working, please leave a note on how you did it in the forum! For more detail, see the \"Setting Up Your System\" page.\n",
    "\n",
    "Word2vec, published by Google in 2013, is a neural network implementation that learns distributed representations for words. Other deep or recurrent neural network architectures had been proposed for learning word representations prior to this, but the major problem with these was the long time required to train the models. Word2vec learns quickly relative to other models.\n",
    "\n",
    "Word2Vec does not need labels in order to create meaningful representations. This is useful, since most data in the real world is unlabeled. If the network is given enough training data (tens of billions of words), it produces word vectors with intriguing characteristics. Words with similar meanings appear in clusters, and clusters are spaced such that some word relationships, such as analogies, can be reproduced using vector math. The famous example is that, with highly trained word vectors, \"king - man + woman = queen.\"\n",
    "\n",
    "Check out Google's code, writeup, and the accompanying papers. This presentation is also helpful. The original code is in C, but it has since been ported to other languages, including Python. We encourage you to play with the original C tool, but be warned that it is not user-friendly if you are a beginning programmer (we had to manually edit the header files to compile it).\n",
    "\n",
    "Recent work out of Stanford has also applied deep learning to sentiment analysis; their code is available in Java. However, their approach, which relies on sentence parsing, cannot be applied in a straightforward way to paragraphs of arbitrary length.\n",
    "\n",
    "Distributed word vectors are powerful and can be used for many applications, particularly word prediction and translation. Here, we will try to apply them to sentiment analysis.\n",
    "\n"
   ]
  },
  {
   "cell_type": "code",
   "execution_count": 35,
   "metadata": {},
   "outputs": [
    {
     "name": "stdout",
     "output_type": "stream",
     "text": [
      "(25000, 3)\n",
      "(25000, 2)\n",
      "(50000, 2)\n"
     ]
    }
   ],
   "source": [
    "import pandas as pd\n",
    "\n",
    "# Read data from files \n",
    "train = pd.read_csv(\"labeledTrainData.tsv\", header=0, delimiter=\"\\t\", quoting=3 )\n",
    "test = pd.read_csv(\"testData.tsv\", header=0, delimiter=\"\\t\", quoting=3 )\n",
    "unlabeled_train = pd.read_csv( \"unlabeledTrainData.tsv\", header=0, delimiter=\"\\t\", quoting=3 )\n",
    "\n",
    "# Verify the number of reviews that were read (100,000 in total)\n",
    "print(train.shape)\n",
    "print(test.shape)\n",
    "print(unlabeled_train.shape)"
   ]
  },
  {
   "cell_type": "code",
   "execution_count": 36,
   "metadata": {},
   "outputs": [
    {
     "data": {
      "text/html": [
       "<div>\n",
       "<style>\n",
       "    .dataframe thead tr:only-child th {\n",
       "        text-align: right;\n",
       "    }\n",
       "\n",
       "    .dataframe thead th {\n",
       "        text-align: left;\n",
       "    }\n",
       "\n",
       "    .dataframe tbody tr th {\n",
       "        vertical-align: top;\n",
       "    }\n",
       "</style>\n",
       "<table border=\"1\" class=\"dataframe\">\n",
       "  <thead>\n",
       "    <tr style=\"text-align: right;\">\n",
       "      <th></th>\n",
       "      <th>id</th>\n",
       "      <th>sentiment</th>\n",
       "      <th>review</th>\n",
       "    </tr>\n",
       "  </thead>\n",
       "  <tbody>\n",
       "    <tr>\n",
       "      <th>0</th>\n",
       "      <td>\"5814_8\"</td>\n",
       "      <td>1</td>\n",
       "      <td>\"With all this stuff going down at the moment ...</td>\n",
       "    </tr>\n",
       "    <tr>\n",
       "      <th>1</th>\n",
       "      <td>\"2381_9\"</td>\n",
       "      <td>1</td>\n",
       "      <td>\"\\\"The Classic War of the Worlds\\\" by Timothy ...</td>\n",
       "    </tr>\n",
       "    <tr>\n",
       "      <th>2</th>\n",
       "      <td>\"7759_3\"</td>\n",
       "      <td>0</td>\n",
       "      <td>\"The film starts with a manager (Nicholas Bell...</td>\n",
       "    </tr>\n",
       "    <tr>\n",
       "      <th>3</th>\n",
       "      <td>\"3630_4\"</td>\n",
       "      <td>0</td>\n",
       "      <td>\"It must be assumed that those who praised thi...</td>\n",
       "    </tr>\n",
       "    <tr>\n",
       "      <th>4</th>\n",
       "      <td>\"9495_8\"</td>\n",
       "      <td>1</td>\n",
       "      <td>\"Superbly trashy and wondrously unpretentious ...</td>\n",
       "    </tr>\n",
       "  </tbody>\n",
       "</table>\n",
       "</div>"
      ],
      "text/plain": [
       "         id  sentiment                                             review\n",
       "0  \"5814_8\"          1  \"With all this stuff going down at the moment ...\n",
       "1  \"2381_9\"          1  \"\\\"The Classic War of the Worlds\\\" by Timothy ...\n",
       "2  \"7759_3\"          0  \"The film starts with a manager (Nicholas Bell...\n",
       "3  \"3630_4\"          0  \"It must be assumed that those who praised thi...\n",
       "4  \"9495_8\"          1  \"Superbly trashy and wondrously unpretentious ..."
      ]
     },
     "execution_count": 36,
     "metadata": {},
     "output_type": "execute_result"
    }
   ],
   "source": [
    "train.head()"
   ]
  },
  {
   "cell_type": "code",
   "execution_count": 37,
   "metadata": {},
   "outputs": [
    {
     "data": {
      "text/html": [
       "<div>\n",
       "<style>\n",
       "    .dataframe thead tr:only-child th {\n",
       "        text-align: right;\n",
       "    }\n",
       "\n",
       "    .dataframe thead th {\n",
       "        text-align: left;\n",
       "    }\n",
       "\n",
       "    .dataframe tbody tr th {\n",
       "        vertical-align: top;\n",
       "    }\n",
       "</style>\n",
       "<table border=\"1\" class=\"dataframe\">\n",
       "  <thead>\n",
       "    <tr style=\"text-align: right;\">\n",
       "      <th></th>\n",
       "      <th>id</th>\n",
       "      <th>review</th>\n",
       "    </tr>\n",
       "  </thead>\n",
       "  <tbody>\n",
       "    <tr>\n",
       "      <th>0</th>\n",
       "      <td>\"12311_10\"</td>\n",
       "      <td>\"Naturally in a film who's main themes are of ...</td>\n",
       "    </tr>\n",
       "    <tr>\n",
       "      <th>1</th>\n",
       "      <td>\"8348_2\"</td>\n",
       "      <td>\"This movie is a disaster within a disaster fi...</td>\n",
       "    </tr>\n",
       "    <tr>\n",
       "      <th>2</th>\n",
       "      <td>\"5828_4\"</td>\n",
       "      <td>\"All in all, this is a movie for kids. We saw ...</td>\n",
       "    </tr>\n",
       "    <tr>\n",
       "      <th>3</th>\n",
       "      <td>\"7186_2\"</td>\n",
       "      <td>\"Afraid of the Dark left me with the impressio...</td>\n",
       "    </tr>\n",
       "    <tr>\n",
       "      <th>4</th>\n",
       "      <td>\"12128_7\"</td>\n",
       "      <td>\"A very accurate depiction of small time mob l...</td>\n",
       "    </tr>\n",
       "  </tbody>\n",
       "</table>\n",
       "</div>"
      ],
      "text/plain": [
       "           id                                             review\n",
       "0  \"12311_10\"  \"Naturally in a film who's main themes are of ...\n",
       "1    \"8348_2\"  \"This movie is a disaster within a disaster fi...\n",
       "2    \"5828_4\"  \"All in all, this is a movie for kids. We saw ...\n",
       "3    \"7186_2\"  \"Afraid of the Dark left me with the impressio...\n",
       "4   \"12128_7\"  \"A very accurate depiction of small time mob l..."
      ]
     },
     "execution_count": 37,
     "metadata": {},
     "output_type": "execute_result"
    }
   ],
   "source": [
    "test.head()"
   ]
  },
  {
   "cell_type": "code",
   "execution_count": 38,
   "metadata": {},
   "outputs": [
    {
     "data": {
      "text/html": [
       "<div>\n",
       "<style>\n",
       "    .dataframe thead tr:only-child th {\n",
       "        text-align: right;\n",
       "    }\n",
       "\n",
       "    .dataframe thead th {\n",
       "        text-align: left;\n",
       "    }\n",
       "\n",
       "    .dataframe tbody tr th {\n",
       "        vertical-align: top;\n",
       "    }\n",
       "</style>\n",
       "<table border=\"1\" class=\"dataframe\">\n",
       "  <thead>\n",
       "    <tr style=\"text-align: right;\">\n",
       "      <th></th>\n",
       "      <th>id</th>\n",
       "      <th>review</th>\n",
       "    </tr>\n",
       "  </thead>\n",
       "  <tbody>\n",
       "    <tr>\n",
       "      <th>0</th>\n",
       "      <td>\"9999_0\"</td>\n",
       "      <td>\"Watching Time Chasers, it obvious that it was...</td>\n",
       "    </tr>\n",
       "    <tr>\n",
       "      <th>1</th>\n",
       "      <td>\"45057_0\"</td>\n",
       "      <td>\"I saw this film about 20 years ago and rememb...</td>\n",
       "    </tr>\n",
       "    <tr>\n",
       "      <th>2</th>\n",
       "      <td>\"15561_0\"</td>\n",
       "      <td>\"Minor Spoilers&lt;br /&gt;&lt;br /&gt;In New York, Joan B...</td>\n",
       "    </tr>\n",
       "    <tr>\n",
       "      <th>3</th>\n",
       "      <td>\"7161_0\"</td>\n",
       "      <td>\"I went to see this film with a great deal of ...</td>\n",
       "    </tr>\n",
       "    <tr>\n",
       "      <th>4</th>\n",
       "      <td>\"43971_0\"</td>\n",
       "      <td>\"Yes, I agree with everyone on this site this ...</td>\n",
       "    </tr>\n",
       "  </tbody>\n",
       "</table>\n",
       "</div>"
      ],
      "text/plain": [
       "          id                                             review\n",
       "0   \"9999_0\"  \"Watching Time Chasers, it obvious that it was...\n",
       "1  \"45057_0\"  \"I saw this film about 20 years ago and rememb...\n",
       "2  \"15561_0\"  \"Minor Spoilers<br /><br />In New York, Joan B...\n",
       "3   \"7161_0\"  \"I went to see this film with a great deal of ...\n",
       "4  \"43971_0\"  \"Yes, I agree with everyone on this site this ..."
      ]
     },
     "execution_count": 38,
     "metadata": {},
     "output_type": "execute_result"
    }
   ],
   "source": [
    "unlabeled_train.head()"
   ]
  },
  {
   "cell_type": "code",
   "execution_count": 41,
   "metadata": {
    "collapsed": true
   },
   "outputs": [],
   "source": [
    "# Import various modules for string cleaning\n",
    "\n",
    "from bs4 import BeautifulSoup\n",
    "import re\n",
    "from nltk.corpus import stopwords\n",
    "\n",
    "def review_to_wordlist(review, remove_stopwords=False):\n",
    "    # Function to convert a document to a sequence of words,\n",
    "    # optionally removing stop words.  Returns a list of words.\n",
    "    \n",
    "    # 1. Remove HTML\n",
    "    review_text = BeautifulSoup(review).get_text()\n",
    "      \n",
    "    # 2. Remove non-letters\n",
    "    review_text = re.sub(\"[^a-zA-Z]\",\" \", review_text)\n",
    "    \n",
    "    # 3. Convert words to lower case and split them\n",
    "    words = review_text.lower().split()\n",
    "    \n",
    "    # 4. Optionally remove stop words (false by default)\n",
    "    if remove_stopwords:\n",
    "        stops = set(stopwords.words(\"english\"))\n",
    "        words = [w for w in words if not w in stops]\n",
    "    \n",
    "    # 5. Return a list of words\n",
    "    return(words)\n",
    "\n",
    "\n",
    "# \"\"\"\"\"\"\"\"\"\"\"\"\"\"\n",
    "# # What this does?\n",
    "# # 1. \n",
    "# # 2. \n",
    "# # 3. \n",
    "# # 4. \n",
    "# \"\"\"\"\"\"\"\"\"\"\"\"\"\"\n"
   ]
  },
  {
   "cell_type": "code",
   "execution_count": null,
   "metadata": {
    "collapsed": true
   },
   "outputs": [],
   "source": []
  },
  {
   "cell_type": "markdown",
   "metadata": {},
   "source": [
    "Next, we want a specific input format. Word2Vec expects single sentences, each one as a list of words. In other words, the input format is a list of lists.\n",
    "\n",
    "It is not at all straightforward how to split a paragraph into sentences. There are all kinds of gotchas in natural language. English sentences can end with \"?\", \"!\", \"\"\", or \".\", among other things, and spacing and capitalization are not reliable guides either. For this reason, we'll use NLTK's punkt tokenizer for sentence splitting. In order to use this, you will need to install NLTK and use nltk.download() to download the relevant training file for punkt.\n",
    "\n"
   ]
  },
  {
   "cell_type": "code",
   "execution_count": 42,
   "metadata": {
    "collapsed": true
   },
   "outputs": [],
   "source": [
    "# Download the punkt tokenizer for sentence splitting\n",
    "import nltk.data\n",
    "# nltk.download()   \n",
    "\n",
    "# Load the punkt tokenizer\n",
    "tokenizer = nltk.data.load('tokenizers/punkt/english.pickle')\n",
    "\n",
    "# Define a function to split a review into parsed sentences\n",
    "def review_to_sentences(review, tokenizer, remove_stopwords=False):\n",
    "    # Function to split a review into parsed sentences. Returns a \n",
    "    # list of sentences, where each sentence is a list of words\n",
    "    \n",
    "    # 1. Use the NLTK tokenizer to split the paragraph into sentences\n",
    "    raw_sentences = tokenizer.tokenize(review.strip())\n",
    "    \n",
    "    # 2. Loop over each sentence\n",
    "    sentences = []\n",
    "    for raw_sentence in raw_sentences:\n",
    "        # If a sentence is empty, skip it\n",
    "        if len(raw_sentence) > 0:\n",
    "            # Otherwise, call review_to_wordlist to get a list of words\n",
    "            sentences.append(review_to_wordlist(raw_sentence, remove_stopwords))\n",
    "    \n",
    "    # Return the list of sentences (each sentence is a list of words,\n",
    "    # so this returns a list of lists\n",
    "    return sentences\n"
   ]
  },
  {
   "cell_type": "code",
   "execution_count": 44,
   "metadata": {},
   "outputs": [
    {
     "name": "stdout",
     "output_type": "stream",
     "text": [
      "Parsing sentences from training set\n"
     ]
    },
    {
     "name": "stderr",
     "output_type": "stream",
     "text": [
      "/Users/keonpark/anaconda3/lib/python3.6/site-packages/bs4/__init__.py:181: UserWarning: No parser was explicitly specified, so I'm using the best available HTML parser for this system (\"html5lib\"). This usually isn't a problem, but if you run this code on another system, or in a different virtual environment, it may use a different parser and behave differently.\n",
      "\n",
      "The code that caused this warning is on line 193 of the file /Users/keonpark/anaconda3/lib/python3.6/runpy.py. To get rid of this warning, change code that looks like this:\n",
      "\n",
      " BeautifulSoup(YOUR_MARKUP})\n",
      "\n",
      "to this:\n",
      "\n",
      " BeautifulSoup(YOUR_MARKUP, \"html5lib\")\n",
      "\n",
      "  markup_type=markup_type))\n",
      "/Users/keonpark/anaconda3/lib/python3.6/site-packages/bs4/__init__.py:219: UserWarning: \"b'.'\" looks like a filename, not markup. You should probably open this file and pass the filehandle into Beautiful Soup.\n",
      "  ' Beautiful Soup.' % markup)\n",
      "/Users/keonpark/anaconda3/lib/python3.6/site-packages/bs4/__init__.py:282: UserWarning: \"http://www.happierabroad.com\"\" looks like a URL. Beautiful Soup is not an HTTP client. You should probably use an HTTP client like requests to get the document behind the URL, and feed that document to Beautiful Soup.\n",
      "  ' that document to Beautiful Soup.' % decoded_markup\n"
     ]
    },
    {
     "name": "stdout",
     "output_type": "stream",
     "text": [
      "Parsing sentences from unlabeled set\n"
     ]
    },
    {
     "name": "stderr",
     "output_type": "stream",
     "text": [
      "/Users/keonpark/anaconda3/lib/python3.6/site-packages/bs4/__init__.py:282: UserWarning: \"http://www.archive.org/details/LovefromaStranger\"\" looks like a URL. Beautiful Soup is not an HTTP client. You should probably use an HTTP client like requests to get the document behind the URL, and feed that document to Beautiful Soup.\n",
      "  ' that document to Beautiful Soup.' % decoded_markup\n",
      "/Users/keonpark/anaconda3/lib/python3.6/site-packages/bs4/__init__.py:282: UserWarning: \"http://www.loosechangeguide.com/LooseChangeGuide.html\"\" looks like a URL. Beautiful Soup is not an HTTP client. You should probably use an HTTP client like requests to get the document behind the URL, and feed that document to Beautiful Soup.\n",
      "  ' that document to Beautiful Soup.' % decoded_markup\n",
      "/Users/keonpark/anaconda3/lib/python3.6/site-packages/bs4/__init__.py:282: UserWarning: \"http://www.msnbc.msn.com/id/4972055/site/newsweek/\"\" looks like a URL. Beautiful Soup is not an HTTP client. You should probably use an HTTP client like requests to get the document behind the URL, and feed that document to Beautiful Soup.\n",
      "  ' that document to Beautiful Soup.' % decoded_markup\n",
      "/Users/keonpark/anaconda3/lib/python3.6/site-packages/bs4/__init__.py:219: UserWarning: \"b'..'\" looks like a filename, not markup. You should probably open this file and pass the filehandle into Beautiful Soup.\n",
      "  ' Beautiful Soup.' % markup)\n",
      "/Users/keonpark/anaconda3/lib/python3.6/site-packages/bs4/__init__.py:282: UserWarning: \"http://www.youtube.com/watch?v=a0KSqelmgN8\"\" looks like a URL. Beautiful Soup is not an HTTP client. You should probably use an HTTP client like requests to get the document behind the URL, and feed that document to Beautiful Soup.\n",
      "  ' that document to Beautiful Soup.' % decoded_markup\n",
      "/Users/keonpark/anaconda3/lib/python3.6/site-packages/bs4/__init__.py:282: UserWarning: \"http://jake-weird.blogspot.com/2007/08/beneath.html\"\" looks like a URL. Beautiful Soup is not an HTTP client. You should probably use an HTTP client like requests to get the document behind the URL, and feed that document to Beautiful Soup.\n",
      "  ' that document to Beautiful Soup.' % decoded_markup\n"
     ]
    }
   ],
   "source": [
    "sentences = []  # Initialize an empty list of sentences\n",
    "\n",
    "print( \"Parsing sentences from training set\")\n",
    "for review in train[\"review\"]:\n",
    "    sentences += review_to_sentences(review, tokenizer)\n",
    "\n",
    "print (\"Parsing sentences from unlabeled set\")\n",
    "for review in unlabeled_train[\"review\"]:\n",
    "    sentences += review_to_sentences(review, tokenizer)\n"
   ]
  },
  {
   "cell_type": "code",
   "execution_count": 45,
   "metadata": {},
   "outputs": [
    {
     "data": {
      "text/plain": [
       "795538"
      ]
     },
     "execution_count": 45,
     "metadata": {},
     "output_type": "execute_result"
    }
   ],
   "source": [
    "# Check how many sentences we have in total\n",
    "len(sentences)"
   ]
  },
  {
   "cell_type": "code",
   "execution_count": 46,
   "metadata": {},
   "outputs": [
    {
     "data": {
      "text/plain": [
       "['maybe',\n",
       " 'i',\n",
       " 'just',\n",
       " 'want',\n",
       " 'to',\n",
       " 'get',\n",
       " 'a',\n",
       " 'certain',\n",
       " 'insight',\n",
       " 'into',\n",
       " 'this',\n",
       " 'guy',\n",
       " 'who',\n",
       " 'i',\n",
       " 'thought',\n",
       " 'was',\n",
       " 'really',\n",
       " 'cool',\n",
       " 'in',\n",
       " 'the',\n",
       " 'eighties',\n",
       " 'just',\n",
       " 'to',\n",
       " 'maybe',\n",
       " 'make',\n",
       " 'up',\n",
       " 'my',\n",
       " 'mind',\n",
       " 'whether',\n",
       " 'he',\n",
       " 'is',\n",
       " 'guilty',\n",
       " 'or',\n",
       " 'innocent']"
      ]
     },
     "execution_count": 46,
     "metadata": {},
     "output_type": "execute_result"
    }
   ],
   "source": [
    "sentences[1]"
   ]
  },
  {
   "cell_type": "code",
   "execution_count": null,
   "metadata": {
    "collapsed": true
   },
   "outputs": [],
   "source": []
  },
  {
   "cell_type": "markdown",
   "metadata": {},
   "source": [
    "### Training and Saving Your Model\n",
    "With the list of nicely parsed sentences, we're ready to train the model. There are a number of parameter choices that affect the run time and the quality of the final model that is produced. For details on the algorithms below, see the word2vec API documentation as well as the Google documentation. \n",
    "\n",
    "* Architecture: Architecture options are skip-gram (default) or continuous bag of words. We found that skip-gram was very slightly slower but produced better results.\n",
    "\n",
    "\n",
    "* Training algorithm: Hierarchical softmax (default) or negative sampling. For us, the default worked well.\n",
    "Downsampling of frequent words: The Google documentation recommends values between .00001 and .001. For us, values closer 0.001 seemed to improve the accuracy of the final model.\n",
    "\n",
    "\n",
    "* Word vector dimensionality: More features result in longer runtimes, and often, but not always, result in better models. Reasonable values can be in the tens to hundreds; we used 300.\n",
    "\n",
    "\n",
    "* Context / window size: How many words of context should the training algorithm take into account? 10 seems to work well for hierarchical softmax (more is better, up to a point).\n",
    "\n",
    "\n",
    "* Worker threads: Number of parallel processes to run. This is computer-specific, but between 4 and 6 should work on most systems.\n",
    "\n",
    "\n",
    "* Minimum word count: This helps limit the size of the vocabulary to meaningful words. Any word that does not occur at least this many times across all documents is ignored. Reasonable values could be between 10 and 100. In this case, since each movie occurs 30 times, we set the minimum word count to 40, to avoid attaching too much importance to individual movie titles. This resulted in an overall vocabulary size of around 15,000 words. Higher values also help limit run time.\n",
    "\n",
    "\n",
    "Choosing parameters is not easy, but once we have chosen our parameters, creating a Word2Vec model is straightforward:"
   ]
  },
  {
   "cell_type": "code",
   "execution_count": 47,
   "metadata": {
    "collapsed": true
   },
   "outputs": [],
   "source": [
    "# !pip install --upgrade gensim"
   ]
  },
  {
   "cell_type": "code",
   "execution_count": 48,
   "metadata": {
    "collapsed": true
   },
   "outputs": [],
   "source": [
    "import gensim\n"
   ]
  },
  {
   "cell_type": "code",
   "execution_count": null,
   "metadata": {
    "collapsed": true
   },
   "outputs": [],
   "source": []
  },
  {
   "cell_type": "code",
   "execution_count": 49,
   "metadata": {},
   "outputs": [
    {
     "name": "stderr",
     "output_type": "stream",
     "text": [
      "2018-04-20 15:57:47,407 : INFO : collecting all words and their counts\n",
      "2018-04-20 15:57:47,411 : INFO : PROGRESS: at sentence #0, processed 0 words, keeping 0 word types\n",
      "2018-04-20 15:57:47,529 : INFO : PROGRESS: at sentence #10000, processed 225803 words, keeping 17776 word types\n"
     ]
    },
    {
     "name": "stdout",
     "output_type": "stream",
     "text": [
      "Training model...\n"
     ]
    },
    {
     "name": "stderr",
     "output_type": "stream",
     "text": [
      "2018-04-20 15:57:47,617 : INFO : PROGRESS: at sentence #20000, processed 451892 words, keeping 24948 word types\n",
      "2018-04-20 15:57:47,704 : INFO : PROGRESS: at sentence #30000, processed 671315 words, keeping 30034 word types\n",
      "2018-04-20 15:57:47,775 : INFO : PROGRESS: at sentence #40000, processed 897815 words, keeping 34348 word types\n",
      "2018-04-20 15:57:47,847 : INFO : PROGRESS: at sentence #50000, processed 1116963 words, keeping 37761 word types\n",
      "2018-04-20 15:57:47,927 : INFO : PROGRESS: at sentence #60000, processed 1338404 words, keeping 40723 word types\n",
      "2018-04-20 15:57:47,991 : INFO : PROGRESS: at sentence #70000, processed 1561580 words, keeping 43333 word types\n",
      "2018-04-20 15:57:48,078 : INFO : PROGRESS: at sentence #80000, processed 1780887 words, keeping 45714 word types\n",
      "2018-04-20 15:57:48,168 : INFO : PROGRESS: at sentence #90000, processed 2004996 words, keeping 48135 word types\n",
      "2018-04-20 15:57:48,254 : INFO : PROGRESS: at sentence #100000, processed 2226967 words, keeping 50207 word types\n",
      "2018-04-20 15:57:48,336 : INFO : PROGRESS: at sentence #110000, processed 2446581 words, keeping 52081 word types\n",
      "2018-04-20 15:57:48,410 : INFO : PROGRESS: at sentence #120000, processed 2668776 words, keeping 54119 word types\n",
      "2018-04-20 15:57:48,471 : INFO : PROGRESS: at sentence #130000, processed 2894304 words, keeping 55847 word types\n",
      "2018-04-20 15:57:48,553 : INFO : PROGRESS: at sentence #140000, processed 3107006 words, keeping 57346 word types\n",
      "2018-04-20 15:57:48,619 : INFO : PROGRESS: at sentence #150000, processed 3332628 words, keeping 59055 word types\n",
      "2018-04-20 15:57:48,713 : INFO : PROGRESS: at sentence #160000, processed 3555316 words, keeping 60617 word types\n",
      "2018-04-20 15:57:48,810 : INFO : PROGRESS: at sentence #170000, processed 3778656 words, keeping 62077 word types\n",
      "2018-04-20 15:57:48,881 : INFO : PROGRESS: at sentence #180000, processed 3999237 words, keeping 63496 word types\n",
      "2018-04-20 15:57:48,964 : INFO : PROGRESS: at sentence #190000, processed 4224450 words, keeping 64794 word types\n",
      "2018-04-20 15:57:49,038 : INFO : PROGRESS: at sentence #200000, processed 4448604 words, keeping 66087 word types\n",
      "2018-04-20 15:57:49,112 : INFO : PROGRESS: at sentence #210000, processed 4669968 words, keeping 67390 word types\n",
      "2018-04-20 15:57:49,182 : INFO : PROGRESS: at sentence #220000, processed 4894969 words, keeping 68697 word types\n",
      "2018-04-20 15:57:49,265 : INFO : PROGRESS: at sentence #230000, processed 5117546 words, keeping 69958 word types\n",
      "2018-04-20 15:57:49,357 : INFO : PROGRESS: at sentence #240000, processed 5345051 words, keeping 71167 word types\n",
      "2018-04-20 15:57:49,432 : INFO : PROGRESS: at sentence #250000, processed 5559166 words, keeping 72351 word types\n",
      "2018-04-20 15:57:49,523 : INFO : PROGRESS: at sentence #260000, processed 5779147 words, keeping 73478 word types\n",
      "2018-04-20 15:57:49,614 : INFO : PROGRESS: at sentence #270000, processed 6000436 words, keeping 74767 word types\n",
      "2018-04-20 15:57:49,699 : INFO : PROGRESS: at sentence #280000, processed 6226315 words, keeping 76369 word types\n",
      "2018-04-20 15:57:49,771 : INFO : PROGRESS: at sentence #290000, processed 6449475 words, keeping 77839 word types\n",
      "2018-04-20 15:57:49,833 : INFO : PROGRESS: at sentence #300000, processed 6674078 words, keeping 79171 word types\n",
      "2018-04-20 15:57:49,911 : INFO : PROGRESS: at sentence #310000, processed 6899392 words, keeping 80480 word types\n",
      "2018-04-20 15:57:49,978 : INFO : PROGRESS: at sentence #320000, processed 7124279 words, keeping 81808 word types\n",
      "2018-04-20 15:57:50,043 : INFO : PROGRESS: at sentence #330000, processed 7346022 words, keeping 83030 word types\n",
      "2018-04-20 15:57:50,123 : INFO : PROGRESS: at sentence #340000, processed 7575534 words, keeping 84280 word types\n",
      "2018-04-20 15:57:50,195 : INFO : PROGRESS: at sentence #350000, processed 7798804 words, keeping 85425 word types\n",
      "2018-04-20 15:57:50,280 : INFO : PROGRESS: at sentence #360000, processed 8019467 words, keeping 86596 word types\n",
      "2018-04-20 15:57:50,377 : INFO : PROGRESS: at sentence #370000, processed 8246659 words, keeping 87708 word types\n",
      "2018-04-20 15:57:50,450 : INFO : PROGRESS: at sentence #380000, processed 8471806 words, keeping 88878 word types\n",
      "2018-04-20 15:57:50,532 : INFO : PROGRESS: at sentence #390000, processed 8701556 words, keeping 89907 word types\n",
      "2018-04-20 15:57:50,614 : INFO : PROGRESS: at sentence #400000, processed 8924505 words, keeping 90916 word types\n",
      "2018-04-20 15:57:50,727 : INFO : PROGRESS: at sentence #410000, processed 9145855 words, keeping 91880 word types\n",
      "2018-04-20 15:57:50,831 : INFO : PROGRESS: at sentence #420000, processed 9366935 words, keeping 92912 word types\n",
      "2018-04-20 15:57:50,919 : INFO : PROGRESS: at sentence #430000, processed 9594472 words, keeping 93932 word types\n",
      "2018-04-20 15:57:50,999 : INFO : PROGRESS: at sentence #440000, processed 9821225 words, keeping 94906 word types\n",
      "2018-04-20 15:57:51,071 : INFO : PROGRESS: at sentence #450000, processed 10044987 words, keeping 96036 word types\n",
      "2018-04-20 15:57:51,142 : INFO : PROGRESS: at sentence #460000, processed 10277747 words, keeping 97088 word types\n",
      "2018-04-20 15:57:51,202 : INFO : PROGRESS: at sentence #470000, processed 10505672 words, keeping 97933 word types\n",
      "2018-04-20 15:57:51,283 : INFO : PROGRESS: at sentence #480000, processed 10726056 words, keeping 98862 word types\n",
      "2018-04-20 15:57:51,354 : INFO : PROGRESS: at sentence #490000, processed 10952800 words, keeping 99871 word types\n",
      "2018-04-20 15:57:51,420 : INFO : PROGRESS: at sentence #500000, processed 11174456 words, keeping 100765 word types\n",
      "2018-04-20 15:57:51,506 : INFO : PROGRESS: at sentence #510000, processed 11399731 words, keeping 101699 word types\n",
      "2018-04-20 15:57:51,604 : INFO : PROGRESS: at sentence #520000, processed 11623082 words, keeping 102598 word types\n",
      "2018-04-20 15:57:51,737 : INFO : PROGRESS: at sentence #530000, processed 11847480 words, keeping 103400 word types\n",
      "2018-04-20 15:57:51,822 : INFO : PROGRESS: at sentence #540000, processed 12072095 words, keeping 104265 word types\n",
      "2018-04-20 15:57:51,904 : INFO : PROGRESS: at sentence #550000, processed 12297646 words, keeping 105133 word types\n",
      "2018-04-20 15:57:51,978 : INFO : PROGRESS: at sentence #560000, processed 12518936 words, keeping 105997 word types\n",
      "2018-04-20 15:57:52,070 : INFO : PROGRESS: at sentence #570000, processed 12748083 words, keeping 106787 word types\n",
      "2018-04-20 15:57:52,146 : INFO : PROGRESS: at sentence #580000, processed 12969579 words, keeping 107665 word types\n",
      "2018-04-20 15:57:52,218 : INFO : PROGRESS: at sentence #590000, processed 13195104 words, keeping 108501 word types\n",
      "2018-04-20 15:57:52,310 : INFO : PROGRESS: at sentence #600000, processed 13417302 words, keeping 109218 word types\n",
      "2018-04-20 15:57:52,387 : INFO : PROGRESS: at sentence #610000, processed 13638325 words, keeping 110092 word types\n",
      "2018-04-20 15:57:52,477 : INFO : PROGRESS: at sentence #620000, processed 13864650 words, keeping 110837 word types\n",
      "2018-04-20 15:57:52,571 : INFO : PROGRESS: at sentence #630000, processed 14088936 words, keeping 111610 word types\n",
      "2018-04-20 15:57:52,691 : INFO : PROGRESS: at sentence #640000, processed 14309719 words, keeping 112416 word types\n",
      "2018-04-20 15:57:52,795 : INFO : PROGRESS: at sentence #650000, processed 14535475 words, keeping 113196 word types\n",
      "2018-04-20 15:57:52,876 : INFO : PROGRESS: at sentence #660000, processed 14758265 words, keeping 113945 word types\n",
      "2018-04-20 15:57:52,947 : INFO : PROGRESS: at sentence #670000, processed 14981658 words, keeping 114643 word types\n",
      "2018-04-20 15:57:53,027 : INFO : PROGRESS: at sentence #680000, processed 15206490 words, keeping 115354 word types\n",
      "2018-04-20 15:57:53,097 : INFO : PROGRESS: at sentence #690000, processed 15428683 words, keeping 116131 word types\n",
      "2018-04-20 15:57:53,169 : INFO : PROGRESS: at sentence #700000, processed 15657389 words, keeping 116943 word types\n",
      "2018-04-20 15:57:53,255 : INFO : PROGRESS: at sentence #710000, processed 15880378 words, keeping 117596 word types\n",
      "2018-04-20 15:57:53,329 : INFO : PROGRESS: at sentence #720000, processed 16105665 words, keeping 118221 word types\n",
      "2018-04-20 15:57:53,403 : INFO : PROGRESS: at sentence #730000, processed 16332046 words, keeping 118954 word types\n"
     ]
    },
    {
     "name": "stderr",
     "output_type": "stream",
     "text": [
      "2018-04-20 15:57:53,478 : INFO : PROGRESS: at sentence #740000, processed 16553079 words, keeping 119668 word types\n",
      "2018-04-20 15:57:53,571 : INFO : PROGRESS: at sentence #750000, processed 16771406 words, keeping 120295 word types\n",
      "2018-04-20 15:57:53,638 : INFO : PROGRESS: at sentence #760000, processed 16990810 words, keeping 120930 word types\n",
      "2018-04-20 15:57:53,729 : INFO : PROGRESS: at sentence #770000, processed 17217947 words, keeping 121703 word types\n",
      "2018-04-20 15:57:53,859 : INFO : PROGRESS: at sentence #780000, processed 17448093 words, keeping 122402 word types\n",
      "2018-04-20 15:57:53,974 : INFO : PROGRESS: at sentence #790000, processed 17675169 words, keeping 123066 word types\n",
      "2018-04-20 15:57:54,039 : INFO : collected 123504 word types from a corpus of 17798270 raw words and 795538 sentences\n",
      "2018-04-20 15:57:54,040 : INFO : Loading a fresh vocabulary\n",
      "2018-04-20 15:57:54,149 : INFO : min_count=40 retains 16490 unique words (13% of original 123504, drops 107014)\n",
      "2018-04-20 15:57:54,151 : INFO : min_count=40 leaves 17239125 word corpus (96% of original 17798270, drops 559145)\n",
      "2018-04-20 15:57:54,220 : INFO : deleting the raw counts dictionary of 123504 items\n",
      "2018-04-20 15:57:54,227 : INFO : sample=0.001 downsamples 48 most-common words\n",
      "2018-04-20 15:57:54,230 : INFO : downsampling leaves estimated 12749798 word corpus (74.0% of prior 17239125)\n",
      "2018-04-20 15:57:54,323 : INFO : estimated required memory for 16490 words and 300 dimensions: 47821000 bytes\n",
      "2018-04-20 15:57:54,325 : INFO : resetting layer weights\n",
      "2018-04-20 15:57:54,612 : INFO : training model with 4 workers on 16490 vocabulary and 300 features, using sg=0 hs=0 sample=0.001 negative=5 window=10\n",
      "2018-04-20 15:57:55,629 : INFO : EPOCH 1 - PROGRESS: at 3.87% examples, 491726 words/s, in_qsize 8, out_qsize 0\n",
      "2018-04-20 15:57:56,675 : INFO : EPOCH 1 - PROGRESS: at 7.08% examples, 439158 words/s, in_qsize 8, out_qsize 0\n",
      "2018-04-20 15:57:57,689 : INFO : EPOCH 1 - PROGRESS: at 11.49% examples, 475884 words/s, in_qsize 8, out_qsize 0\n",
      "2018-04-20 15:57:58,697 : INFO : EPOCH 1 - PROGRESS: at 16.50% examples, 512945 words/s, in_qsize 7, out_qsize 0\n",
      "2018-04-20 15:57:59,704 : INFO : EPOCH 1 - PROGRESS: at 21.40% examples, 533600 words/s, in_qsize 7, out_qsize 0\n",
      "2018-04-20 15:58:00,706 : INFO : EPOCH 1 - PROGRESS: at 26.46% examples, 551457 words/s, in_qsize 8, out_qsize 0\n",
      "2018-04-20 15:58:01,708 : INFO : EPOCH 1 - PROGRESS: at 31.37% examples, 561205 words/s, in_qsize 7, out_qsize 0\n",
      "2018-04-20 15:58:02,708 : INFO : EPOCH 1 - PROGRESS: at 36.45% examples, 571262 words/s, in_qsize 7, out_qsize 0\n",
      "2018-04-20 15:58:03,716 : INFO : EPOCH 1 - PROGRESS: at 41.54% examples, 579611 words/s, in_qsize 7, out_qsize 0\n",
      "2018-04-20 15:58:04,719 : INFO : EPOCH 1 - PROGRESS: at 46.67% examples, 587213 words/s, in_qsize 7, out_qsize 0\n",
      "2018-04-20 15:58:05,733 : INFO : EPOCH 1 - PROGRESS: at 51.76% examples, 592232 words/s, in_qsize 7, out_qsize 0\n",
      "2018-04-20 15:58:06,749 : INFO : EPOCH 1 - PROGRESS: at 56.44% examples, 592105 words/s, in_qsize 6, out_qsize 1\n",
      "2018-04-20 15:58:07,750 : INFO : EPOCH 1 - PROGRESS: at 61.30% examples, 594876 words/s, in_qsize 7, out_qsize 0\n",
      "2018-04-20 15:58:08,763 : INFO : EPOCH 1 - PROGRESS: at 66.34% examples, 597822 words/s, in_qsize 7, out_qsize 0\n",
      "2018-04-20 15:58:09,765 : INFO : EPOCH 1 - PROGRESS: at 71.33% examples, 600310 words/s, in_qsize 8, out_qsize 0\n",
      "2018-04-20 15:58:10,773 : INFO : EPOCH 1 - PROGRESS: at 76.55% examples, 604015 words/s, in_qsize 8, out_qsize 1\n",
      "2018-04-20 15:58:11,785 : INFO : EPOCH 1 - PROGRESS: at 80.70% examples, 599206 words/s, in_qsize 7, out_qsize 0\n",
      "2018-04-20 15:58:12,788 : INFO : EPOCH 1 - PROGRESS: at 85.28% examples, 598444 words/s, in_qsize 8, out_qsize 0\n",
      "2018-04-20 15:58:13,799 : INFO : EPOCH 1 - PROGRESS: at 90.24% examples, 600095 words/s, in_qsize 8, out_qsize 0\n",
      "2018-04-20 15:58:14,801 : INFO : EPOCH 1 - PROGRESS: at 95.47% examples, 602893 words/s, in_qsize 7, out_qsize 0\n",
      "2018-04-20 15:58:15,827 : INFO : EPOCH 1 - PROGRESS: at 99.77% examples, 600035 words/s, in_qsize 4, out_qsize 0\n",
      "2018-04-20 15:58:15,833 : INFO : worker thread finished; awaiting finish of 3 more threads\n",
      "2018-04-20 15:58:15,866 : INFO : worker thread finished; awaiting finish of 2 more threads\n",
      "2018-04-20 15:58:15,878 : INFO : worker thread finished; awaiting finish of 1 more threads\n",
      "2018-04-20 15:58:15,893 : INFO : worker thread finished; awaiting finish of 0 more threads\n",
      "2018-04-20 15:58:15,895 : INFO : EPOCH - 1 : training on 17798270 raw words (12750154 effective words) took 21.3s, 599437 effective words/s\n",
      "2018-04-20 15:58:16,922 : INFO : EPOCH 2 - PROGRESS: at 3.71% examples, 466617 words/s, in_qsize 7, out_qsize 0\n",
      "2018-04-20 15:58:17,931 : INFO : EPOCH 2 - PROGRESS: at 7.36% examples, 463094 words/s, in_qsize 7, out_qsize 0\n",
      "2018-04-20 15:58:18,933 : INFO : EPOCH 2 - PROGRESS: at 11.73% examples, 491826 words/s, in_qsize 7, out_qsize 0\n",
      "2018-04-20 15:58:19,938 : INFO : EPOCH 2 - PROGRESS: at 16.61% examples, 522067 words/s, in_qsize 7, out_qsize 0\n",
      "2018-04-20 15:58:20,957 : INFO : EPOCH 2 - PROGRESS: at 21.24% examples, 532794 words/s, in_qsize 7, out_qsize 0\n",
      "2018-04-20 15:58:21,981 : INFO : EPOCH 2 - PROGRESS: at 24.99% examples, 521956 words/s, in_qsize 7, out_qsize 0\n",
      "2018-04-20 15:58:23,007 : INFO : EPOCH 2 - PROGRESS: at 28.64% examples, 511861 words/s, in_qsize 8, out_qsize 1\n",
      "2018-04-20 15:58:24,022 : INFO : EPOCH 2 - PROGRESS: at 33.93% examples, 529704 words/s, in_qsize 7, out_qsize 0\n",
      "2018-04-20 15:58:25,029 : INFO : EPOCH 2 - PROGRESS: at 38.85% examples, 540224 words/s, in_qsize 7, out_qsize 0\n",
      "2018-04-20 15:58:26,067 : INFO : EPOCH 2 - PROGRESS: at 43.42% examples, 542777 words/s, in_qsize 8, out_qsize 0\n",
      "2018-04-20 15:58:27,074 : INFO : EPOCH 2 - PROGRESS: at 47.16% examples, 536714 words/s, in_qsize 8, out_qsize 0\n",
      "2018-04-20 15:58:28,091 : INFO : EPOCH 2 - PROGRESS: at 51.65% examples, 538919 words/s, in_qsize 8, out_qsize 0\n",
      "2018-04-20 15:58:29,093 : INFO : EPOCH 2 - PROGRESS: at 56.71% examples, 547259 words/s, in_qsize 7, out_qsize 0\n",
      "2018-04-20 15:58:30,110 : INFO : EPOCH 2 - PROGRESS: at 61.47% examples, 551361 words/s, in_qsize 7, out_qsize 0\n",
      "2018-04-20 15:58:31,111 : INFO : EPOCH 2 - PROGRESS: at 66.34% examples, 556018 words/s, in_qsize 7, out_qsize 0\n",
      "2018-04-20 15:58:32,123 : INFO : EPOCH 2 - PROGRESS: at 69.94% examples, 549535 words/s, in_qsize 7, out_qsize 0\n",
      "2018-04-20 15:58:33,139 : INFO : EPOCH 2 - PROGRESS: at 73.17% examples, 541230 words/s, in_qsize 7, out_qsize 0\n",
      "2018-04-20 15:58:34,146 : INFO : EPOCH 2 - PROGRESS: at 76.38% examples, 533679 words/s, in_qsize 7, out_qsize 0\n",
      "2018-04-20 15:58:35,149 : INFO : EPOCH 2 - PROGRESS: at 80.93% examples, 535969 words/s, in_qsize 8, out_qsize 0\n",
      "2018-04-20 15:58:36,160 : INFO : EPOCH 2 - PROGRESS: at 85.00% examples, 534992 words/s, in_qsize 6, out_qsize 1\n",
      "2018-04-20 15:58:37,164 : INFO : EPOCH 2 - PROGRESS: at 87.80% examples, 526603 words/s, in_qsize 7, out_qsize 0\n",
      "2018-04-20 15:58:38,166 : INFO : EPOCH 2 - PROGRESS: at 90.54% examples, 518609 words/s, in_qsize 7, out_qsize 0\n",
      "2018-04-20 15:58:39,182 : INFO : EPOCH 2 - PROGRESS: at 93.86% examples, 514124 words/s, in_qsize 7, out_qsize 0\n",
      "2018-04-20 15:58:40,189 : INFO : EPOCH 2 - PROGRESS: at 97.35% examples, 511050 words/s, in_qsize 7, out_qsize 0\n",
      "2018-04-20 15:58:40,843 : INFO : worker thread finished; awaiting finish of 3 more threads\n",
      "2018-04-20 15:58:40,863 : INFO : worker thread finished; awaiting finish of 2 more threads\n",
      "2018-04-20 15:58:40,865 : INFO : worker thread finished; awaiting finish of 1 more threads\n",
      "2018-04-20 15:58:40,872 : INFO : worker thread finished; awaiting finish of 0 more threads\n",
      "2018-04-20 15:58:40,874 : INFO : EPOCH - 2 : training on 17798270 raw words (12750801 effective words) took 25.0s, 510775 effective words/s\n",
      "2018-04-20 15:58:41,891 : INFO : EPOCH 3 - PROGRESS: at 4.21% examples, 533122 words/s, in_qsize 7, out_qsize 0\n",
      "2018-04-20 15:58:42,898 : INFO : EPOCH 3 - PROGRESS: at 9.00% examples, 568255 words/s, in_qsize 7, out_qsize 0\n",
      "2018-04-20 15:58:43,909 : INFO : EPOCH 3 - PROGRESS: at 13.94% examples, 584221 words/s, in_qsize 8, out_qsize 0\n",
      "2018-04-20 15:58:44,909 : INFO : EPOCH 3 - PROGRESS: at 18.69% examples, 588157 words/s, in_qsize 7, out_qsize 0\n"
     ]
    },
    {
     "name": "stderr",
     "output_type": "stream",
     "text": [
      "2018-04-20 15:58:45,942 : INFO : EPOCH 3 - PROGRESS: at 23.38% examples, 585442 words/s, in_qsize 7, out_qsize 0\n",
      "2018-04-20 15:58:46,970 : INFO : EPOCH 3 - PROGRESS: at 27.74% examples, 578162 words/s, in_qsize 6, out_qsize 1\n",
      "2018-04-20 15:58:47,971 : INFO : EPOCH 3 - PROGRESS: at 32.34% examples, 578090 words/s, in_qsize 8, out_qsize 0\n",
      "2018-04-20 15:58:48,985 : INFO : EPOCH 3 - PROGRESS: at 37.06% examples, 579801 words/s, in_qsize 6, out_qsize 1\n",
      "2018-04-20 15:58:49,987 : INFO : EPOCH 3 - PROGRESS: at 41.98% examples, 585143 words/s, in_qsize 7, out_qsize 0\n",
      "2018-04-20 15:58:50,988 : INFO : EPOCH 3 - PROGRESS: at 47.10% examples, 592245 words/s, in_qsize 8, out_qsize 0\n",
      "2018-04-20 15:58:51,997 : INFO : EPOCH 3 - PROGRESS: at 52.32% examples, 598311 words/s, in_qsize 7, out_qsize 0\n",
      "2018-04-20 15:58:53,012 : INFO : EPOCH 3 - PROGRESS: at 57.57% examples, 604230 words/s, in_qsize 7, out_qsize 0\n",
      "2018-04-20 15:58:54,022 : INFO : EPOCH 3 - PROGRESS: at 62.37% examples, 604603 words/s, in_qsize 6, out_qsize 1\n",
      "2018-04-20 15:58:55,028 : INFO : EPOCH 3 - PROGRESS: at 67.34% examples, 606597 words/s, in_qsize 7, out_qsize 0\n",
      "2018-04-20 15:58:56,034 : INFO : EPOCH 3 - PROGRESS: at 72.60% examples, 610703 words/s, in_qsize 7, out_qsize 0\n",
      "2018-04-20 15:58:57,041 : INFO : EPOCH 3 - PROGRESS: at 77.83% examples, 613791 words/s, in_qsize 7, out_qsize 0\n",
      "2018-04-20 15:58:58,055 : INFO : EPOCH 3 - PROGRESS: at 83.28% examples, 617927 words/s, in_qsize 7, out_qsize 0\n",
      "2018-04-20 15:58:59,064 : INFO : EPOCH 3 - PROGRESS: at 88.46% examples, 620239 words/s, in_qsize 8, out_qsize 0\n",
      "2018-04-20 15:59:00,064 : INFO : EPOCH 3 - PROGRESS: at 93.28% examples, 619968 words/s, in_qsize 7, out_qsize 0\n",
      "2018-04-20 15:59:01,074 : INFO : EPOCH 3 - PROGRESS: at 98.06% examples, 619092 words/s, in_qsize 7, out_qsize 0\n",
      "2018-04-20 15:59:01,477 : INFO : worker thread finished; awaiting finish of 3 more threads\n",
      "2018-04-20 15:59:01,485 : INFO : worker thread finished; awaiting finish of 2 more threads\n",
      "2018-04-20 15:59:01,493 : INFO : worker thread finished; awaiting finish of 1 more threads\n",
      "2018-04-20 15:59:01,496 : INFO : worker thread finished; awaiting finish of 0 more threads\n",
      "2018-04-20 15:59:01,498 : INFO : EPOCH - 3 : training on 17798270 raw words (12748551 effective words) took 20.6s, 618469 effective words/s\n",
      "2018-04-20 15:59:02,514 : INFO : EPOCH 4 - PROGRESS: at 4.54% examples, 574820 words/s, in_qsize 8, out_qsize 0\n",
      "2018-04-20 15:59:03,539 : INFO : EPOCH 4 - PROGRESS: at 9.18% examples, 573127 words/s, in_qsize 7, out_qsize 1\n",
      "2018-04-20 15:59:04,545 : INFO : EPOCH 4 - PROGRESS: at 12.51% examples, 522290 words/s, in_qsize 6, out_qsize 1\n",
      "2018-04-20 15:59:05,555 : INFO : EPOCH 4 - PROGRESS: at 16.06% examples, 503401 words/s, in_qsize 7, out_qsize 0\n",
      "2018-04-20 15:59:06,562 : INFO : EPOCH 4 - PROGRESS: at 18.75% examples, 469562 words/s, in_qsize 7, out_qsize 1\n",
      "2018-04-20 15:59:07,563 : INFO : EPOCH 4 - PROGRESS: at 22.98% examples, 480563 words/s, in_qsize 7, out_qsize 0\n",
      "2018-04-20 15:59:08,565 : INFO : EPOCH 4 - PROGRESS: at 27.36% examples, 491310 words/s, in_qsize 7, out_qsize 0\n",
      "2018-04-20 15:59:09,572 : INFO : EPOCH 4 - PROGRESS: at 32.13% examples, 504402 words/s, in_qsize 7, out_qsize 0\n",
      "2018-04-20 15:59:10,585 : INFO : EPOCH 4 - PROGRESS: at 36.90% examples, 515026 words/s, in_qsize 7, out_qsize 0\n",
      "2018-04-20 15:59:11,591 : INFO : EPOCH 4 - PROGRESS: at 41.09% examples, 516839 words/s, in_qsize 6, out_qsize 1\n",
      "2018-04-20 15:59:12,609 : INFO : EPOCH 4 - PROGRESS: at 45.35% examples, 518427 words/s, in_qsize 8, out_qsize 0\n",
      "2018-04-20 15:59:13,612 : INFO : EPOCH 4 - PROGRESS: at 49.49% examples, 519779 words/s, in_qsize 7, out_qsize 0\n",
      "2018-04-20 15:59:14,614 : INFO : EPOCH 4 - PROGRESS: at 54.70% examples, 530722 words/s, in_qsize 7, out_qsize 0\n",
      "2018-04-20 15:59:15,626 : INFO : EPOCH 4 - PROGRESS: at 59.73% examples, 538748 words/s, in_qsize 8, out_qsize 0\n",
      "2018-04-20 15:59:16,629 : INFO : EPOCH 4 - PROGRESS: at 63.89% examples, 537996 words/s, in_qsize 7, out_qsize 0\n",
      "2018-04-20 15:59:17,634 : INFO : EPOCH 4 - PROGRESS: at 68.03% examples, 537300 words/s, in_qsize 7, out_qsize 0\n",
      "2018-04-20 15:59:18,636 : INFO : EPOCH 4 - PROGRESS: at 72.89% examples, 542229 words/s, in_qsize 7, out_qsize 0\n",
      "2018-04-20 15:59:19,641 : INFO : EPOCH 4 - PROGRESS: at 76.00% examples, 533871 words/s, in_qsize 6, out_qsize 1\n",
      "2018-04-20 15:59:20,654 : INFO : EPOCH 4 - PROGRESS: at 80.02% examples, 532484 words/s, in_qsize 8, out_qsize 1\n",
      "2018-04-20 15:59:21,687 : INFO : EPOCH 4 - PROGRESS: at 83.73% examples, 528635 words/s, in_qsize 7, out_qsize 0\n",
      "2018-04-20 15:59:22,694 : INFO : EPOCH 4 - PROGRESS: at 85.96% examples, 517005 words/s, in_qsize 7, out_qsize 0\n",
      "2018-04-20 15:59:23,717 : INFO : EPOCH 4 - PROGRESS: at 89.10% examples, 511211 words/s, in_qsize 6, out_qsize 1\n",
      "2018-04-20 15:59:24,733 : INFO : EPOCH 4 - PROGRESS: at 93.91% examples, 515352 words/s, in_qsize 7, out_qsize 0\n",
      "2018-04-20 15:59:25,766 : INFO : EPOCH 4 - PROGRESS: at 98.06% examples, 515240 words/s, in_qsize 8, out_qsize 0\n",
      "2018-04-20 15:59:26,332 : INFO : worker thread finished; awaiting finish of 3 more threads\n",
      "2018-04-20 15:59:26,339 : INFO : worker thread finished; awaiting finish of 2 more threads\n",
      "2018-04-20 15:59:26,357 : INFO : worker thread finished; awaiting finish of 1 more threads\n",
      "2018-04-20 15:59:26,370 : INFO : worker thread finished; awaiting finish of 0 more threads\n",
      "2018-04-20 15:59:26,373 : INFO : EPOCH - 4 : training on 17798270 raw words (12749680 effective words) took 24.9s, 512699 effective words/s\n",
      "2018-04-20 15:59:27,391 : INFO : EPOCH 5 - PROGRESS: at 4.81% examples, 611986 words/s, in_qsize 8, out_qsize 0\n",
      "2018-04-20 15:59:28,401 : INFO : EPOCH 5 - PROGRESS: at 9.98% examples, 627976 words/s, in_qsize 8, out_qsize 0\n",
      "2018-04-20 15:59:29,404 : INFO : EPOCH 5 - PROGRESS: at 15.01% examples, 630314 words/s, in_qsize 7, out_qsize 0\n",
      "2018-04-20 15:59:30,410 : INFO : EPOCH 5 - PROGRESS: at 19.81% examples, 623599 words/s, in_qsize 8, out_qsize 0\n",
      "2018-04-20 15:59:31,411 : INFO : EPOCH 5 - PROGRESS: at 24.73% examples, 623259 words/s, in_qsize 7, out_qsize 1\n",
      "2018-04-20 15:59:32,418 : INFO : EPOCH 5 - PROGRESS: at 29.15% examples, 612808 words/s, in_qsize 7, out_qsize 0\n",
      "2018-04-20 15:59:33,422 : INFO : EPOCH 5 - PROGRESS: at 33.21% examples, 597326 words/s, in_qsize 8, out_qsize 0\n",
      "2018-04-20 15:59:34,430 : INFO : EPOCH 5 - PROGRESS: at 38.34% examples, 604202 words/s, in_qsize 6, out_qsize 1\n",
      "2018-04-20 15:59:35,455 : INFO : EPOCH 5 - PROGRESS: at 43.46% examples, 608553 words/s, in_qsize 7, out_qsize 0\n",
      "2018-04-20 15:59:36,517 : INFO : EPOCH 5 - PROGRESS: at 47.05% examples, 589938 words/s, in_qsize 7, out_qsize 0\n",
      "2018-04-20 15:59:37,518 : INFO : EPOCH 5 - PROGRESS: at 50.16% examples, 572905 words/s, in_qsize 7, out_qsize 0\n",
      "2018-04-20 15:59:38,519 : INFO : EPOCH 5 - PROGRESS: at 53.56% examples, 561012 words/s, in_qsize 8, out_qsize 0\n",
      "2018-04-20 15:59:39,533 : INFO : EPOCH 5 - PROGRESS: at 57.10% examples, 552498 words/s, in_qsize 7, out_qsize 0\n",
      "2018-04-20 15:59:40,548 : INFO : EPOCH 5 - PROGRESS: at 60.52% examples, 544177 words/s, in_qsize 7, out_qsize 0\n",
      "2018-04-20 15:59:41,575 : INFO : EPOCH 5 - PROGRESS: at 64.00% examples, 536590 words/s, in_qsize 8, out_qsize 0\n",
      "2018-04-20 15:59:42,590 : INFO : EPOCH 5 - PROGRESS: at 68.50% examples, 538305 words/s, in_qsize 7, out_qsize 0\n",
      "2018-04-20 15:59:43,605 : INFO : EPOCH 5 - PROGRESS: at 73.50% examples, 544013 words/s, in_qsize 8, out_qsize 0\n",
      "2018-04-20 15:59:44,613 : INFO : EPOCH 5 - PROGRESS: at 78.61% examples, 549603 words/s, in_qsize 8, out_qsize 0\n",
      "2018-04-20 15:59:45,618 : INFO : EPOCH 5 - PROGRESS: at 83.78% examples, 555109 words/s, in_qsize 8, out_qsize 0\n",
      "2018-04-20 15:59:46,634 : INFO : EPOCH 5 - PROGRESS: at 88.18% examples, 555165 words/s, in_qsize 7, out_qsize 0\n",
      "2018-04-20 15:59:47,641 : INFO : EPOCH 5 - PROGRESS: at 92.95% examples, 557476 words/s, in_qsize 7, out_qsize 0\n",
      "2018-04-20 15:59:48,651 : INFO : EPOCH 5 - PROGRESS: at 98.29% examples, 562707 words/s, in_qsize 7, out_qsize 0\n",
      "2018-04-20 15:59:48,943 : INFO : worker thread finished; awaiting finish of 3 more threads\n",
      "2018-04-20 15:59:48,952 : INFO : worker thread finished; awaiting finish of 2 more threads\n",
      "2018-04-20 15:59:48,964 : INFO : worker thread finished; awaiting finish of 1 more threads\n"
     ]
    },
    {
     "name": "stderr",
     "output_type": "stream",
     "text": [
      "2018-04-20 15:59:48,970 : INFO : worker thread finished; awaiting finish of 0 more threads\n",
      "2018-04-20 15:59:48,971 : INFO : EPOCH - 5 : training on 17798270 raw words (12749310 effective words) took 22.6s, 564527 effective words/s\n",
      "2018-04-20 15:59:48,973 : INFO : training on a 88991350 raw words (63748496 effective words) took 114.4s, 557468 effective words/s\n",
      "2018-04-20 15:59:48,975 : INFO : precomputing L2-norms of word weight vectors\n",
      "2018-04-20 15:59:49,087 : INFO : saving Word2Vec object under 300features_40minwords_10context_trial1, separately None\n",
      "2018-04-20 15:59:49,090 : INFO : not storing attribute vectors_norm\n",
      "2018-04-20 15:59:49,093 : INFO : not storing attribute cum_table\n",
      "2018-04-20 15:59:49,640 : INFO : saved 300features_40minwords_10context_trial1\n"
     ]
    }
   ],
   "source": [
    "# Import the built-in logging module and configure it so that Word2Vec creates nice output messages\n",
    "import logging\n",
    "logging.basicConfig(format='%(asctime)s : %(levelname)s : %(message)s', level=logging.INFO)\n",
    "\n",
    "# Set values for various parameters\n",
    "\n",
    "num_features = 300    # Word vector dimensionality                      \n",
    "min_word_count = 40   # Minimum word count                        \n",
    "num_workers = 4       # Number of threads to run in parallel\n",
    "context = 10          # Context window size                                                                                    \n",
    "downsampling = 1e-3   # Downsample setting for frequent words\n",
    "\n",
    "# Initialize and train the model (this will take some time)\n",
    "from gensim.models import word2vec\n",
    "print(\"Training model...\")\n",
    "model = word2vec.Word2Vec(sentences, workers=num_workers, size=num_features, min_count = min_word_count, \n",
    "                          window = context, sample = downsampling)\n",
    "\n",
    "# If you don't plan to train the model any further, calling init_sims will make the model much more memory-efficient.\n",
    "model.init_sims(replace=True)\n",
    "\n",
    "# It can be helpful to create a meaningful model name and \n",
    "# save the model for later use. You can load it later using Word2Vec.load()\n",
    "model_name = \"300features_40minwords_10context_trial1\"\n",
    "model.save(model_name)"
   ]
  },
  {
   "cell_type": "markdown",
   "metadata": {
    "collapsed": true
   },
   "source": [
    "### Exploring the Model Results"
   ]
  },
  {
   "cell_type": "code",
   "execution_count": 57,
   "metadata": {},
   "outputs": [
    {
     "name": "stderr",
     "output_type": "stream",
     "text": [
      "/Users/keonpark/anaconda3/lib/python3.6/site-packages/ipykernel_launcher.py:3: DeprecationWarning: Call to deprecated `doesnt_match` (Method will be removed in 4.0.0, use self.wv.doesnt_match() instead).\n",
      "  This is separate from the ipykernel package so we can avoid doing imports until\n"
     ]
    },
    {
     "data": {
      "text/plain": [
       "'tiger'"
      ]
     },
     "execution_count": 57,
     "metadata": {},
     "output_type": "execute_result"
    }
   ],
   "source": [
    "# The \"doesnt_match\" function will try to deduce which word in a set is most dissimilar from the others:\n",
    "\n",
    "model.doesnt_match(\"man tiger woman child \".split())\n"
   ]
  },
  {
   "cell_type": "code",
   "execution_count": 58,
   "metadata": {},
   "outputs": [
    {
     "name": "stderr",
     "output_type": "stream",
     "text": [
      "/Users/keonpark/anaconda3/lib/python3.6/site-packages/ipykernel_launcher.py:1: DeprecationWarning: Call to deprecated `doesnt_match` (Method will be removed in 4.0.0, use self.wv.doesnt_match() instead).\n",
      "  \"\"\"Entry point for launching an IPython kernel.\n"
     ]
    },
    {
     "data": {
      "text/plain": [
       "'paris'"
      ]
     },
     "execution_count": 58,
     "metadata": {},
     "output_type": "execute_result"
    }
   ],
   "source": [
    "model.doesnt_match(\"paris berlin london austria\".split())\n"
   ]
  },
  {
   "cell_type": "code",
   "execution_count": 59,
   "metadata": {},
   "outputs": [
    {
     "name": "stderr",
     "output_type": "stream",
     "text": [
      "/Users/keonpark/anaconda3/lib/python3.6/site-packages/ipykernel_launcher.py:1: DeprecationWarning: Call to deprecated `doesnt_match` (Method will be removed in 4.0.0, use self.wv.doesnt_match() instead).\n",
      "  \"\"\"Entry point for launching an IPython kernel.\n"
     ]
    },
    {
     "data": {
      "text/plain": [
       "'berlin'"
      ]
     },
     "execution_count": 59,
     "metadata": {},
     "output_type": "execute_result"
    }
   ],
   "source": [
    "model.doesnt_match(\"france england germany berlin\".split())\n"
   ]
  },
  {
   "cell_type": "code",
   "execution_count": 60,
   "metadata": {},
   "outputs": [
    {
     "name": "stderr",
     "output_type": "stream",
     "text": [
      "/Users/keonpark/anaconda3/lib/python3.6/site-packages/ipykernel_launcher.py:2: DeprecationWarning: Call to deprecated `most_similar` (Method will be removed in 4.0.0, use self.wv.most_similar() instead).\n",
      "  \n"
     ]
    },
    {
     "data": {
      "text/plain": [
       "[('woman', 0.6277197599411011),\n",
       " ('lady', 0.5923646688461304),\n",
       " ('lad', 0.5720973610877991),\n",
       " ('monk', 0.5439918637275696),\n",
       " ('farmer', 0.5352869629859924),\n",
       " ('soldier', 0.5302597284317017),\n",
       " ('millionaire', 0.5279288291931152),\n",
       " ('men', 0.5108588933944702),\n",
       " ('sailor', 0.510452926158905),\n",
       " ('guy', 0.5053010582923889)]"
      ]
     },
     "execution_count": 60,
     "metadata": {},
     "output_type": "execute_result"
    }
   ],
   "source": [
    "# We can also use the \"most_similar\" function to get insight into the model's word clusters:\n",
    "model.most_similar(\"man\")\n"
   ]
  },
  {
   "cell_type": "code",
   "execution_count": 61,
   "metadata": {},
   "outputs": [
    {
     "name": "stderr",
     "output_type": "stream",
     "text": [
      "/Users/keonpark/anaconda3/lib/python3.6/site-packages/ipykernel_launcher.py:1: DeprecationWarning: Call to deprecated `most_similar` (Method will be removed in 4.0.0, use self.wv.most_similar() instead).\n",
      "  \"\"\"Entry point for launching an IPython kernel.\n"
     ]
    },
    {
     "data": {
      "text/plain": [
       "[('terrible', 0.7869938611984253),\n",
       " ('atrocious', 0.7482832670211792),\n",
       " ('horrible', 0.7440119981765747),\n",
       " ('abysmal', 0.7227820754051208),\n",
       " ('dreadful', 0.6959949731826782),\n",
       " ('appalling', 0.6898812651634216),\n",
       " ('horrendous', 0.6722686886787415),\n",
       " ('horrid', 0.6460875272750854),\n",
       " ('laughable', 0.6188846230506897),\n",
       " ('lousy', 0.6172640323638916)]"
      ]
     },
     "execution_count": 61,
     "metadata": {},
     "output_type": "execute_result"
    }
   ],
   "source": [
    "model.most_similar(\"awful\")"
   ]
  },
  {
   "cell_type": "code",
   "execution_count": null,
   "metadata": {
    "collapsed": true
   },
   "outputs": [],
   "source": []
  }
 ],
 "metadata": {
  "kernelspec": {
   "display_name": "Python 3",
   "language": "python",
   "name": "python3"
  },
  "language_info": {
   "codemirror_mode": {
    "name": "ipython",
    "version": 3
   },
   "file_extension": ".py",
   "mimetype": "text/x-python",
   "name": "python",
   "nbconvert_exporter": "python",
   "pygments_lexer": "ipython3",
   "version": "3.6.3"
  }
 },
 "nbformat": 4,
 "nbformat_minor": 2
}
